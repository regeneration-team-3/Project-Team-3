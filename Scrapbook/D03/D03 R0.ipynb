{
 "cells": [
  {
   "cell_type": "code",
   "execution_count": null,
   "metadata": {},
   "outputs": [],
   "source": [
    "#τιτλος"
   ]
  },
  {
   "cell_type": "markdown",
   "metadata": {},
   "source": [
    "# Preprocessing/Feature Engineering"
   ]
  },
  {
   "cell_type": "code",
   "execution_count": 34,
   "metadata": {},
   "outputs": [],
   "source": [
    "import pandas as pd\n",
    "import numpy as np\n",
    "import seaborn as sns\n",
    "import matplotlib.pyplot as plt\n",
    "import collections\n",
    "from scipy import stats\n",
    "from difflib import SequenceMatcher"
   ]
  },
  {
   "cell_type": "code",
   "execution_count": 35,
   "metadata": {},
   "outputs": [],
   "source": [
    "df = pd.read_excel(\"mpg.data.xlsx\")"
   ]
  },
  {
   "cell_type": "code",
   "execution_count": 36,
   "metadata": {},
   "outputs": [],
   "source": [
    "# used to select correct columns\n",
    "df = df[['mpg', 'cylinders', 'displayments', 'horsepower', 'weight', 'acceleration', 'model year', 'origin', 'car name']]"
   ]
  },
  {
   "cell_type": "code",
   "execution_count": 28,
   "metadata": {},
   "outputs": [],
   "source": [
    "#Κύλινδροι 3->4 και 5-->6"
   ]
  },
  {
   "cell_type": "markdown",
   "metadata": {},
   "source": [
    "## Missing Values"
   ]
  },
  {
   "cell_type": "code",
   "execution_count": 47,
   "metadata": {},
   "outputs": [
    {
     "name": "stdout",
     "output_type": "stream",
     "text": [
      "score: 0.830356176609819\n"
     ]
    }
   ],
   "source": [
    "# Use SVR regressor to fix missing values in horsepower\n",
    "\n",
    "from sklearn.model_selection import train_test_split\n",
    "from sklearn.svm import SVR\n",
    "\n",
    "df1 = df.dropna()\n",
    "\n",
    "sourceData = df1[['mpg','acceleration','cylinders', 'displayments', 'weight']]\n",
    "targetData = df1[['horsepower']]\n",
    "\n",
    "xTrain, xTest, yTrain, yTest = train_test_split(sourceData, targetData)\n",
    "horsePowerClassifier = SVR(kernel='linear')\n",
    "horsePowerClassifier = horsePowerClassifier.fit(xTrain, yTrain.values.flatten())\n",
    "score = horsePowerClassifier.score(xTest, yTest.values.flatten())\n",
    "print(f'score: {score}')"
   ]
  },
  {
   "cell_type": "code",
   "execution_count": 48,
   "metadata": {},
   "outputs": [
    {
     "data": {
      "text/plain": [
       "mpg             8\n",
       "cylinders       0\n",
       "displayments    0\n",
       "horsepower      0\n",
       "weight          0\n",
       "acceleration    0\n",
       "model year      0\n",
       "origin          0\n",
       "car name        0\n",
       "dtype: int64"
      ]
     },
     "execution_count": 48,
     "metadata": {},
     "output_type": "execute_result"
    }
   ],
   "source": [
    "# used to fill missing horsepower values\n",
    "for rowId in df.index[df['horsepower'].isna()]:\n",
    "    row = df.iloc[rowId]\n",
    "    values = row[['mpg', 'acceleration','cylinders', 'displayments', 'weight']]\n",
    "    prediction = horsePowerClassifier.predict([values])[0]\n",
    "    df.at[rowId, 'horsepower'] = prediction\n",
    "\n",
    "df.isna().sum()"
   ]
  },
  {
   "cell_type": "code",
   "execution_count": null,
   "metadata": {},
   "outputs": [],
   "source": [
    "#drop mpg where null"
   ]
  },
  {
   "cell_type": "markdown",
   "metadata": {},
   "source": [
    "## One-hot encoding"
   ]
  },
  {
   "cell_type": "code",
   "execution_count": null,
   "metadata": {},
   "outputs": [],
   "source": [
    "#Του origin / getdummies"
   ]
  },
  {
   "cell_type": "markdown",
   "metadata": {},
   "source": [
    "## Scaling/Standardization"
   ]
  },
  {
   "cell_type": "code",
   "execution_count": null,
   "metadata": {},
   "outputs": [],
   "source": [
    "#οχι τώρα αλλά αργότερα"
   ]
  },
  {
   "cell_type": "code",
   "execution_count": null,
   "metadata": {},
   "outputs": [],
   "source": [
    "#Τελικό αρχείο\n",
    "df.to_csv(\"extracted.data.csv\")"
   ]
  }
 ],
 "metadata": {
  "kernelspec": {
   "display_name": "Python 3",
   "language": "python",
   "name": "python3"
  },
  "language_info": {
   "codemirror_mode": {
    "name": "ipython",
    "version": 3
   },
   "file_extension": ".py",
   "mimetype": "text/x-python",
   "name": "python",
   "nbconvert_exporter": "python",
   "pygments_lexer": "ipython3",
   "version": "3.8.5"
  }
 },
 "nbformat": 4,
 "nbformat_minor": 4
}
