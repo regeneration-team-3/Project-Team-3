{
 "cells": [
  {
   "cell_type": "markdown",
   "metadata": {},
   "source": [
    "![](https://www.codehub.gr/wp-content/uploads/2018/01/cropped-CodeHub-logo_320x132.png)"
   ]
  },
  {
   "cell_type": "code",
   "execution_count": 1,
   "metadata": {},
   "outputs": [],
   "source": [
    "import numpy as np\n",
    "import pandas as pd\n",
    "import warnings\n",
    "\n",
    "from sklearn.model_selection import train_test_split \n",
    "\n",
    "from sklearn.ensemble import RandomForestRegressor\n",
    "\n",
    "#regression metrics\n",
    "from sklearn.metrics import mean_squared_error, mean_absolute_error, r2_score\n",
    "\n",
    "np.set_printoptions(precision=3, suppress=True)\n",
    "pd.set_option('precision', 3)\n",
    "warnings.filterwarnings('ignore')"
   ]
  },
  {
   "cell_type": "code",
   "execution_count": 2,
   "metadata": {},
   "outputs": [
    {
     "data": {
      "text/plain": [
       "cylinders          int64\n",
       "displayments     float64\n",
       "horsepower       float64\n",
       "weight             int64\n",
       "acceleration     float64\n",
       "model year         int64\n",
       "cluster            int64\n",
       "mpg              float64\n",
       "origin_1           int64\n",
       "origin_2           int64\n",
       "origin_3           int64\n",
       "origin             int64\n",
       "car name          object\n",
       "brand             object\n",
       "mpg_scaled       float64\n",
       "cylinders_str      int64\n",
       "origin_str         int64\n",
       "dtype: object"
      ]
     },
     "execution_count": 2,
     "metadata": {},
     "output_type": "execute_result"
    }
   ],
   "source": [
    "df = pd.read_csv(\"carbi.data.csv\")\n",
    "df = df.iloc[: , 1:]\n",
    "df.dtypes"
   ]
  },
  {
   "cell_type": "code",
   "execution_count": 3,
   "metadata": {},
   "outputs": [],
   "source": [
    "def RandomForReg(source,target):\n",
    "\n",
    "\n",
    "    if len(source.values.shape)==1:\n",
    "        X = source.values.reshape(-1,1)\n",
    "    \n",
    "    else:\n",
    "        X = source.values \n",
    "\n",
    "    y = target.values\n",
    "    X_train, X_test, y_train, y_test = train_test_split(X, y, test_size=0.2, random_state=42)\n",
    "    model = RandomForestRegressor(n_estimators=4)  #\n",
    "    model.fit(X_train, y_train)\n",
    "    pred_train = model.predict(X_train)\n",
    "    pred_test = model.predict(X_test) \n",
    "    \n",
    "    print(f'Mean Squared Error: {mean_squared_error(y_test, pred_test)}')  \n",
    "    print(f'Root Mean Squared Error: {np.sqrt(mean_squared_error(y_test, pred_test))}')\n",
    "    print(f'Mean Absolute Error: {mean_absolute_error(y_test, pred_test)}') \n",
    "    print('R2 = ',r2_score(y_test,pred_test))"
   ]
  },
  {
   "cell_type": "code",
   "execution_count": 8,
   "metadata": {},
   "outputs": [
    {
     "name": "stdout",
     "output_type": "stream",
     "text": [
      "Mean Squared Error: 11.19134375\n",
      "Root Mean Squared Error: 3.34534658144713\n",
      "Mean Absolute Error: 2.4512500000000004\n",
      "R2 =  0.791852632061052\n"
     ]
    }
   ],
   "source": [
    "RandomForReg(df[['weight','horsepower','displayments','cylinders','cluster','origin','acceleration']],df['mpg'])"
   ]
  },
  {
   "cell_type": "code",
   "execution_count": 4,
   "metadata": {},
   "outputs": [
    {
     "name": "stdout",
     "output_type": "stream",
     "text": [
      "Mean Squared Error: 15.038874999999999\n",
      "Root Mean Squared Error: 3.8779988396078715\n",
      "Mean Absolute Error: 2.930625\n",
      "R2 =  0.7202925477101134\n"
     ]
    }
   ],
   "source": [
    "RandomForReg(df[['weight','horsepower','cylinders','cluster']],df['mpg'])"
   ]
  },
  {
   "cell_type": "code",
   "execution_count": 5,
   "metadata": {},
   "outputs": [
    {
     "name": "stdout",
     "output_type": "stream",
     "text": [
      "Mean Squared Error: 13.817171875000003\n",
      "Root Mean Squared Error: 3.717145662332861\n",
      "Mean Absolute Error: 2.596875\n",
      "R2 =  0.743014956703362\n"
     ]
    }
   ],
   "source": [
    "RandomForReg(df[['weight','horsepower','displayments','cylinders','origin']],df['mpg'])"
   ]
  },
  {
   "cell_type": "code",
   "execution_count": null,
   "metadata": {},
   "outputs": [],
   "source": []
  }
 ],
 "metadata": {
  "kernelspec": {
   "display_name": "Python 3",
   "language": "python",
   "name": "python3"
  },
  "language_info": {
   "codemirror_mode": {
    "name": "ipython",
    "version": 3
   },
   "file_extension": ".py",
   "mimetype": "text/x-python",
   "name": "python",
   "nbconvert_exporter": "python",
   "pygments_lexer": "ipython3",
   "version": "3.8.5"
  }
 },
 "nbformat": 4,
 "nbformat_minor": 2
}
