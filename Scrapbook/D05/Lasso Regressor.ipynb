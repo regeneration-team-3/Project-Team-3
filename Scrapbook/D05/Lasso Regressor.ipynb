{
 "cells": [
  {
   "cell_type": "markdown",
   "metadata": {},
   "source": [
    "## Lasso Regressor"
   ]
  },
  {
   "cell_type": "code",
   "execution_count": 11,
   "metadata": {},
   "outputs": [],
   "source": [
    "import numpy as np\n",
    "import pandas as pd\n",
    "import warnings\n",
    "\n",
    "from sklearn.model_selection import train_test_split \n",
    "\n",
    "from sklearn.linear_model import Lasso\n",
    "from sklearn.inspection import permutation_importance\n",
    "\n",
    "#regression metrics\n",
    "from sklearn.metrics import mean_squared_error, mean_absolute_error, r2_score\n",
    "\n",
    "import matplotlib.pyplot as plt\n",
    "\n",
    "np.set_printoptions(precision=3)\n",
    "pd.set_option('precision', 3)\n",
    "warnings.filterwarnings('ignore')"
   ]
  },
  {
   "cell_type": "code",
   "execution_count": 12,
   "metadata": {},
   "outputs": [
    {
     "data": {
      "text/plain": [
       "cylinders          int64\n",
       "displayments     float64\n",
       "horsepower       float64\n",
       "weight             int64\n",
       "acceleration     float64\n",
       "model year         int64\n",
       "cluster            int64\n",
       "mpg              float64\n",
       "origin_1           int64\n",
       "origin_2           int64\n",
       "origin_3           int64\n",
       "origin             int64\n",
       "car name          object\n",
       "brand             object\n",
       "mpg_scaled       float64\n",
       "cylinders_str      int64\n",
       "origin_str         int64\n",
       "dtype: object"
      ]
     },
     "execution_count": 12,
     "metadata": {},
     "output_type": "execute_result"
    }
   ],
   "source": [
    "df = pd.read_csv(\"carbi.data.csv\")\n",
    "df = df.iloc[: , 1:]\n",
    "df.dtypes"
   ]
  },
  {
   "cell_type": "code",
   "execution_count": 15,
   "metadata": {},
   "outputs": [],
   "source": [
    "def LassoE(source,target):\n",
    "\n",
    "\n",
    "    if len(source.values.shape)==1:\n",
    "        X = source.values.reshape(-1,1)\n",
    "    \n",
    "    else:\n",
    "        X = source.values \n",
    "\n",
    "    y = target.values\n",
    "    X_train, X_test, y_train, y_test = train_test_split(X, y, test_size=0.2, random_state=42)\n",
    "    model = Lasso(alpha=0.1)\n",
    "    model.fit(X_train, y_train)\n",
    "    pred_train = model.predict(X_train)\n",
    "    pred_test = model.predict(X_test) \n",
    "    \n",
    "    print(f'Mean Squared Error: {mean_squared_error(y_test, pred_test)}')  \n",
    "    print(f'Root Mean Squared Error: {np.sqrt(mean_squared_error(y_test, pred_test))}')\n",
    "    print(f'Mean Absolute Error: {mean_absolute_error(y_test, pred_test)}') \n",
    "    print('R2 = ',r2_score(y_test,pred_test))\n",
    "   "
   ]
  },
  {
   "cell_type": "code",
   "execution_count": 16,
   "metadata": {},
   "outputs": [
    {
     "name": "stdout",
     "output_type": "stream",
     "text": [
      "Mean Squared Error: 13.90037033819404\n",
      "Root Mean Squared Error: 3.7283200423507155\n",
      "Mean Absolute Error: 2.9520085599218753\n",
      "R2 =  0.7414675517163243\n"
     ]
    }
   ],
   "source": [
    "LassoE(df[['weight','horsepower','displayments','cylinders','cluster']],df['mpg'])"
   ]
  },
  {
   "cell_type": "code",
   "execution_count": 17,
   "metadata": {},
   "outputs": [
    {
     "name": "stdout",
     "output_type": "stream",
     "text": [
      "Mean Squared Error: 14.115721690580006\n",
      "Root Mean Squared Error: 3.7570895238974553\n",
      "Mean Absolute Error: 2.9820992233953945\n",
      "R2 =  0.7374622402736093\n"
     ]
    }
   ],
   "source": [
    "LassoE(df[['weight','horsepower','cylinders','cluster']],df['mpg'])"
   ]
  },
  {
   "cell_type": "code",
   "execution_count": 18,
   "metadata": {},
   "outputs": [
    {
     "name": "stdout",
     "output_type": "stream",
     "text": [
      "Mean Squared Error: 14.75592289150605\n",
      "Root Mean Squared Error: 3.8413438913362143\n",
      "Mean Absolute Error: 3.1229152499603274\n",
      "R2 =  0.7255551629913026\n"
     ]
    }
   ],
   "source": [
    "LassoE(df[['weight','horsepower','displayments']],df['mpg'])"
   ]
  },
  {
   "cell_type": "code",
   "execution_count": 19,
   "metadata": {},
   "outputs": [
    {
     "name": "stdout",
     "output_type": "stream",
     "text": [
      "Mean Squared Error: 13.900370338194042\n",
      "Root Mean Squared Error: 3.7283200423507155\n",
      "Mean Absolute Error: 2.9520085599218753\n",
      "R2 =  0.7414675517163242\n"
     ]
    }
   ],
   "source": [
    "LassoE(df[['weight','horsepower','displayments','cluster']],df['mpg'])"
   ]
  },
  {
   "cell_type": "code",
   "execution_count": null,
   "metadata": {},
   "outputs": [],
   "source": []
  }
 ],
 "metadata": {
  "kernelspec": {
   "display_name": "Python 3",
   "language": "python",
   "name": "python3"
  },
  "language_info": {
   "codemirror_mode": {
    "name": "ipython",
    "version": 3
   },
   "file_extension": ".py",
   "mimetype": "text/x-python",
   "name": "python",
   "nbconvert_exporter": "python",
   "pygments_lexer": "ipython3",
   "version": "3.8.5"
  }
 },
 "nbformat": 4,
 "nbformat_minor": 2
}
