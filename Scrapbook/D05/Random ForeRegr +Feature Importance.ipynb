{
 "cells": [
  {
   "cell_type": "markdown",
   "metadata": {},
   "source": [
    "## Random Forest/Feature Importance"
   ]
  },
  {
   "cell_type": "code",
   "execution_count": 1,
   "metadata": {},
   "outputs": [],
   "source": [
    "import numpy as np\n",
    "import pandas as pd\n",
    "import warnings\n",
    "\n",
    "from sklearn.model_selection import train_test_split \n",
    "\n",
    "from sklearn.ensemble import RandomForestRegressor\n",
    "from sklearn.inspection import permutation_importance\n",
    "\n",
    "#regression metrics\n",
    "from sklearn.metrics import mean_squared_error, mean_absolute_error, r2_score\n",
    "\n",
    "import matplotlib.pyplot as plt\n",
    "\n",
    "np.set_printoptions(precision=3)\n",
    "pd.set_option('precision', 3)\n",
    "warnings.filterwarnings('ignore')"
   ]
  },
  {
   "cell_type": "code",
   "execution_count": 2,
   "metadata": {},
   "outputs": [
    {
     "data": {
      "text/plain": [
       "cylinders          int64\n",
       "displayments     float64\n",
       "horsepower       float64\n",
       "weight             int64\n",
       "acceleration     float64\n",
       "model year         int64\n",
       "cluster            int64\n",
       "mpg              float64\n",
       "origin_1           int64\n",
       "origin_2           int64\n",
       "origin_3           int64\n",
       "origin             int64\n",
       "car name          object\n",
       "brand             object\n",
       "mpg_scaled       float64\n",
       "cylinders_str      int64\n",
       "origin_str         int64\n",
       "dtype: object"
      ]
     },
     "execution_count": 2,
     "metadata": {},
     "output_type": "execute_result"
    }
   ],
   "source": [
    "df = pd.read_csv(\"carbi.data.csv\")\n",
    "df = df.iloc[: , 1:]\n",
    "df.dtypes"
   ]
  },
  {
   "cell_type": "code",
   "execution_count": 3,
   "metadata": {},
   "outputs": [],
   "source": [
    "def RandomForReg(source,target):\n",
    "\n",
    "\n",
    "    if len(source.values.shape)==1:\n",
    "        X = source.values.reshape(-1,1)\n",
    "    \n",
    "    else:\n",
    "        X = source.values \n",
    "\n",
    "    y = target.values\n",
    "    X_train, X_test, y_train, y_test = train_test_split(X, y, test_size=0.2, random_state=42)\n",
    "    model = RandomForestRegressor(n_estimators=10)  #\n",
    "    model.fit(X_train, y_train)\n",
    "    pred_train = model.predict(X_train)\n",
    "    pred_test = model.predict(X_test) \n",
    "    importance = model.feature_importances_\n",
    "    \n",
    "    print(f'Mean Squared Error: {mean_squared_error(y_test, pred_test)}')  \n",
    "    print(f'Root Mean Squared Error: {np.sqrt(mean_squared_error(y_test, pred_test))}')\n",
    "    print(f'Mean Absolute Error: {mean_absolute_error(y_test, pred_test)}') \n",
    "    print('R2 = ',r2_score(y_test,pred_test))\n",
    "    \n",
    "    # summarize feature importance\n",
    "    for i,v in enumerate(importance):\n",
    "\t    print('Feature: %0d, Score: %.5f' % (i,v))\n",
    "    # plot feature importance\n",
    "    plt.bar([x for x in range(len(importance))], importance)\n",
    "    plt.show()"
   ]
  },
  {
   "cell_type": "code",
   "execution_count": 4,
   "metadata": {},
   "outputs": [
    {
     "name": "stdout",
     "output_type": "stream",
     "text": [
      "Mean Squared Error: 14.356440000000001\n",
      "Root Mean Squared Error: 3.788989311148819\n",
      "Mean Absolute Error: 2.7967500000000003\n",
      "R2 =  0.7329851297818075\n",
      "Feature: 0, Score: 0.16284\n",
      "Feature: 1, Score: 0.22340\n",
      "Feature: 2, Score: 0.43793\n",
      "Feature: 3, Score: 0.11498\n",
      "Feature: 4, Score: 0.06086\n"
     ]
    },
    {
     "data": {
      "image/png": "[encoded data removed]",
      "text/plain": [
       "<Figure size 432x288 with 1 Axes>"
      ]
     },
     "metadata": {
      "needs_background": "light"
     },
     "output_type": "display_data"
    }
   ],
   "source": [
    "RandomForReg(df[['weight','horsepower','displayments','cylinders','cluster']],df['mpg'])"
   ]
  },
  {
   "cell_type": "code",
   "execution_count": 5,
   "metadata": {},
   "outputs": [
    {
     "name": "stdout",
     "output_type": "stream",
     "text": [
      "Mean Squared Error: 16.25589355\n",
      "Root Mean Squared Error: 4.031859812791114\n",
      "Mean Absolute Error: 3.0352749999999995\n",
      "R2 =  0.6976572669454264\n",
      "Feature: 0, Score: 0.26932\n",
      "Feature: 1, Score: 0.24562\n",
      "Feature: 2, Score: 0.06298\n",
      "Feature: 3, Score: 0.42207\n"
     ]
    },
    {
     "data": {
      "image/png": "[encoded data removed]",
      "text/plain": [
       "<Figure size 432x288 with 1 Axes>"
      ]
     },
     "metadata": {
      "needs_background": "light"
     },
     "output_type": "display_data"
    }
   ],
   "source": [
    "RandomForReg(df[['weight','horsepower','cylinders','cluster']],df['mpg'])"
   ]
  },
  {
   "cell_type": "code",
   "execution_count": 7,
   "metadata": {},
   "outputs": [
    {
     "name": "stdout",
     "output_type": "stream",
     "text": [
      "Mean Squared Error: 13.469452500000003\n",
      "Root Mean Squared Error: 3.670075271707653\n",
      "Mean Absolute Error: 2.72525\n",
      "R2 =  0.74948217585992\n",
      "Feature: 0, Score: 0.26284\n",
      "Feature: 1, Score: 0.22378\n",
      "Feature: 2, Score: 0.51338\n"
     ]
    },
    {
     "data": {
      "image/png": "[encoded data removed]",
      "text/plain": [
       "<Figure size 432x288 with 1 Axes>"
      ]
     },
     "metadata": {
      "needs_background": "light"
     },
     "output_type": "display_data"
    }
   ],
   "source": [
    "RandomForReg(df[['weight','horsepower','displayments']],df['mpg'])"
   ]
  },
  {
   "cell_type": "code",
   "execution_count": 15,
   "metadata": {},
   "outputs": [
    {
     "name": "stdout",
     "output_type": "stream",
     "text": [
      "Mean Squared Error: 12.858226250000001\n",
      "Root Mean Squared Error: 3.585836896736939\n",
      "Mean Absolute Error: 2.671625\n",
      "R2 =  0.7608503491548109\n",
      "Feature: 0, Score: 0.15201\n",
      "Feature: 1, Score: 0.23581\n",
      "Feature: 2, Score: 0.43448\n",
      "Feature: 3, Score: 0.17770\n"
     ]
    },
    {
     "data": {
      "image/png": "[encoded data removed]",
      "text/plain": [
       "<Figure size 432x288 with 1 Axes>"
      ]
     },
     "metadata": {
      "needs_background": "light"
     },
     "output_type": "display_data"
    }
   ],
   "source": [
    "RandomForReg(df[['weight','horsepower','displayments','cluster']],df['mpg'])"
   ]
  },
  {
   "cell_type": "code",
   "execution_count": null,
   "metadata": {},
   "outputs": [],
   "source": []
  }
 ],
 "metadata": {
  "kernelspec": {
   "display_name": "Python 3",
   "language": "python",
   "name": "python3"
  },
  "language_info": {
   "codemirror_mode": {
    "name": "ipython",
    "version": 3
   },
   "file_extension": ".py",
   "mimetype": "text/x-python",
   "name": "python",
   "nbconvert_exporter": "python",
   "pygments_lexer": "ipython3",
   "version": "3.8.5"
  }
 },
 "nbformat": 4,
 "nbformat_minor": 2
}
