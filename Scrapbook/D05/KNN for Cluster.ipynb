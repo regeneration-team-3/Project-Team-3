{
 "cells": [
  {
   "cell_type": "markdown",
   "metadata": {},
   "source": [
    "### K Nearest Neighbors (KNN)"
   ]
  },
  {
   "cell_type": "markdown",
   "metadata": {},
   "source": [
    "![](https://www.codehub.gr/wp-content/uploads/2018/01/cropped-CodeHub-logo_320x132.png)"
   ]
  },
  {
   "cell_type": "code",
   "execution_count": 22,
   "metadata": {},
   "outputs": [],
   "source": [
    "import numpy as np\n",
    "import pandas as pd\n",
    "\n",
    "from sklearn.datasets import load_breast_cancer\n",
    "from sklearn.model_selection import train_test_split \n",
    "from sklearn.neighbors import KNeighborsClassifier\n",
    "from sklearn.metrics import mean_squared_error, mean_absolute_error, r2_score, accuracy_score\n",
    "\n",
    "import matplotlib.pyplot as plt\n",
    "\n",
    "np.set_printoptions(precision=3)\n",
    "pd.set_option('precision', 3)\n",
    "%matplotlib inline"
   ]
  },
  {
   "cell_type": "code",
   "execution_count": 23,
   "metadata": {},
   "outputs": [],
   "source": [
    "# load\n",
    "df = pd.read_csv(\"carbi.data.csv\")"
   ]
  },
  {
   "cell_type": "code",
   "execution_count": 50,
   "metadata": {},
   "outputs": [
    {
     "data": {
      "text/plain": [
       "cylinders          int64\n",
       "displayments     float64\n",
       "horsepower       float64\n",
       "weight             int64\n",
       "acceleration     float64\n",
       "model year         int64\n",
       "cluster            int64\n",
       "mpg              float64\n",
       "origin_1           int64\n",
       "origin_2           int64\n",
       "origin_3           int64\n",
       "origin             int64\n",
       "car name          object\n",
       "brand             object\n",
       "mpg_scaled       float64\n",
       "cylinders_str      int64\n",
       "origin_str         int64\n",
       "dtype: object"
      ]
     },
     "execution_count": 50,
     "metadata": {},
     "output_type": "execute_result"
    }
   ],
   "source": [
    "df.dtypes"
   ]
  },
  {
   "cell_type": "code",
   "execution_count": 25,
   "metadata": {},
   "outputs": [
    {
     "data": {
      "text/plain": [
       "(398, 18)"
      ]
     },
     "execution_count": 25,
     "metadata": {},
     "output_type": "execute_result"
    }
   ],
   "source": [
    "df.shape"
   ]
  },
  {
   "cell_type": "code",
   "execution_count": 26,
   "metadata": {},
   "outputs": [],
   "source": [
    "df = df.iloc[: , 1:]"
   ]
  },
  {
   "cell_type": "code",
   "execution_count": 42,
   "metadata": {},
   "outputs": [],
   "source": [
    "def knn_cluster(source,target):\n",
    "\n",
    "\n",
    "    if len(source.values.shape)==1:\n",
    "        X = source.values.reshape(-1,1)\n",
    "    \n",
    "    else:\n",
    "        X = source.values \n",
    "    \n",
    "\n",
    "    y = target.values\n",
    "    X_train, X_test, y_train, y_test = train_test_split(X, y, test_size=0.2, random_state=42)\n",
    "    model = KNeighborsClassifier()\n",
    "    model.fit(X_train, y_train)\n",
    "    pred_train = model.predict(X_train)\n",
    "    pred_test = model.predict(X_test) \n",
    "    \n",
    "    print('Score KNN', model.score(X_train, y_train))\n",
    "\n",
    "   # print('R2 = ', r2_score(y_test,pred_test),'Μάλλον λάθος εδώ')\n",
    "\n",
    "   # fit/score with different number of neighbors\n"
   ]
  },
  {
   "cell_type": "code",
   "execution_count": 43,
   "metadata": {},
   "outputs": [
    {
     "name": "stdout",
     "output_type": "stream",
     "text": [
      "Score KNN 0.9716981132075472\n"
     ]
    }
   ],
   "source": [
    "knn_cluster(df[['weight','horsepower','displayments','cylinders','origin','acceleration']],df['cluster'])"
   ]
  },
  {
   "cell_type": "code",
   "execution_count": 48,
   "metadata": {},
   "outputs": [],
   "source": [
    "def knn_k(source,target):\n",
    "\n",
    "\n",
    "    if len(source.values.shape)==1:\n",
    "        X = source.values.reshape(-1,1)\n",
    "    \n",
    "    else:\n",
    "        X = source.values \n",
    "    \n",
    "\n",
    "    y = target.values\n",
    "    X_train, X_test, y_train, y_test = train_test_split(X, y, test_size=0.2, random_state=42)\n",
    "    \n",
    "    # fit/score with different number of neighbors\n",
    "    for k in range(1, 20):\n",
    "            knn = KNeighborsClassifier(n_neighbors=k) # 11\n",
    "            knn.fit(X_train, y_train)  \n",
    "            print(f'{k} --> {knn.score(X_test, y_test)}')\n",
    "    knn_accuracies=[]\n",
    "\n",
    "    for k in range(1, 20):\n",
    "        knn = KNeighborsClassifier(n_neighbors=k)\n",
    "        knn.fit(X_train, y_train)  \n",
    "        knn_accuracies.append(accuracy_score(y_test, knn.predict(X_test)))    \n",
    "        \n",
    "    fig = plt.figure(figsize=(7, 5))\n",
    "\n",
    "    ax = plt.subplot(111)\n",
    "    ax.plot(range(1, 20, 1), knn_accuracies)\n",
    "\n",
    "    # aesthetic parameters\n",
    "    ax.set_xticks(range(1, 20))\n",
    "    ax.set_xlabel('$k$')\n",
    "    ax.set_ylabel('accuracy')\n",
    "\n",
    "    ax.spines['right'].set_visible(False)\n",
    "    ax.spines['top'].set_visible(False)\n",
    "\n",
    "    ax.yaxis.set_ticks_position('left')\n",
    "    ax.xaxis.set_ticks_position('bottom')\n",
    "\n",
    "    ax.set_title('kNN accuracy on different values of k')\n",
    "\n",
    "    print(f'Best accuracy {max(knn_accuracies) * 100:.2f}% for k={list(range(1, 20))[np.argmax(knn_accuracies)]}')"
   ]
  },
  {
   "cell_type": "code",
   "execution_count": 49,
   "metadata": {},
   "outputs": [
    {
     "name": "stdout",
     "output_type": "stream",
     "text": [
      "1 --> 0.9375\n",
      "2 --> 0.925\n",
      "3 --> 0.9375\n",
      "4 --> 0.9125\n",
      "5 --> 0.9\n",
      "6 --> 0.9\n",
      "7 --> 0.8875\n",
      "8 --> 0.875\n",
      "9 --> 0.875\n",
      "10 --> 0.875\n",
      "11 --> 0.875\n",
      "12 --> 0.875\n",
      "13 --> 0.875\n",
      "14 --> 0.875\n",
      "15 --> 0.875\n",
      "16 --> 0.875\n",
      "17 --> 0.875\n",
      "18 --> 0.875\n",
      "19 --> 0.875\n",
      "Best accuracy 93.75% for k=1\n"
     ]
    },
    {
     "data": {
      "image/png": "[encoded data removed]",
      "text/plain": [
       "<Figure size 504x360 with 1 Axes>"
      ]
     },
     "metadata": {
      "needs_background": "light"
     },
     "output_type": "display_data"
    }
   ],
   "source": [
    "knn_k(df[['weight','horsepower','displayments','cylinders','origin','acceleration']],df['cluster'])"
   ]
  }
 ],
 "metadata": {
  "kernelspec": {
   "display_name": "Python 3",
   "language": "python",
   "name": "python3"
  },
  "language_info": {
   "codemirror_mode": {
    "name": "ipython",
    "version": 3
   },
   "file_extension": ".py",
   "mimetype": "text/x-python",
   "name": "python",
   "nbconvert_exporter": "python",
   "pygments_lexer": "ipython3",
   "version": "3.8.5"
  }
 },
 "nbformat": 4,
 "nbformat_minor": 2
}
