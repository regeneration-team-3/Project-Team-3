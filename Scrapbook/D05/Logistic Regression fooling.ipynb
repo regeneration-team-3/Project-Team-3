{
 "cells": [
  {
   "cell_type": "markdown",
   "metadata": {},
   "source": [
    "![](https://www.codehub.gr/wp-content/uploads/2018/01/cropped-CodeHub-logo_320x132.png)"
   ]
  },
  {
   "cell_type": "code",
   "execution_count": 1,
   "metadata": {},
   "outputs": [],
   "source": [
    "import numpy as np\n",
    "import pandas as pd\n",
    "import warnings\n",
    "\n",
    "from sklearn.model_selection import train_test_split \n",
    "\n",
    "from sklearn.dummy import DummyClassifier\n",
    "from sklearn.linear_model import LogisticRegression\n",
    "from sklearn.neighbors import KNeighborsClassifier\n",
    "from sklearn.tree import DecisionTreeClassifier\n",
    "\n",
    "from sklearn.metrics import accuracy_score, precision_recall_fscore_support, classification_report\n",
    "from sklearn.metrics import plot_confusion_matrix, confusion_matrix\n",
    "\n",
    "import matplotlib.pyplot as plt\n",
    "\n",
    "np.set_printoptions(precision=3, suppress=True)\n",
    "pd.set_option('precision', 3)\n",
    "warnings.filterwarnings('ignore')\n",
    "%matplotlib inline"
   ]
  },
  {
   "cell_type": "markdown",
   "metadata": {},
   "source": [
    "### Logistic Regression (multiclass classification)"
   ]
  },
  {
   "cell_type": "code",
   "execution_count": 2,
   "metadata": {},
   "outputs": [
    {
     "data": {
      "text/plain": [
       "cylinders          int64\n",
       "displayments     float64\n",
       "horsepower       float64\n",
       "weight             int64\n",
       "acceleration     float64\n",
       "model year         int64\n",
       "cluster            int64\n",
       "mpg              float64\n",
       "origin_1           int64\n",
       "origin_2           int64\n",
       "origin_3           int64\n",
       "origin             int64\n",
       "car name          object\n",
       "brand             object\n",
       "mpg_scaled       float64\n",
       "cylinders_str      int64\n",
       "origin_str         int64\n",
       "dtype: object"
      ]
     },
     "execution_count": 2,
     "metadata": {},
     "output_type": "execute_result"
    }
   ],
   "source": [
    "df = pd.read_csv(\"carbi.data.csv\")\n",
    "df = df.iloc[: , 1:]\n",
    "df.dtypes"
   ]
  },
  {
   "cell_type": "code",
   "execution_count": 3,
   "metadata": {},
   "outputs": [
    {
     "data": {
      "text/plain": [
       "cylinders          int64\n",
       "displayments     float64\n",
       "horsepower       float64\n",
       "weight             int64\n",
       "acceleration     float64\n",
       "model year         int64\n",
       "cluster            int64\n",
       "mpg              float64\n",
       "origin_1           int64\n",
       "origin_2           int64\n",
       "origin_3           int64\n",
       "origin             int64\n",
       "car name          object\n",
       "brand             object\n",
       "mpg_scaled       float64\n",
       "cylinders_str      int64\n",
       "origin_str         int64\n",
       "dtype: object"
      ]
     },
     "execution_count": 3,
     "metadata": {},
     "output_type": "execute_result"
    }
   ],
   "source": [
    "df.dtypes"
   ]
  },
  {
   "cell_type": "code",
   "execution_count": 4,
   "metadata": {},
   "outputs": [],
   "source": [
    "def logistic_r(source,target):\n",
    "\n",
    "\n",
    "    if len(source.values.shape)==1:\n",
    "        X = source.values.reshape(-1,1)\n",
    "    \n",
    "    else:\n",
    "        X = source.values \n",
    "\n",
    "    y = target.values\n",
    "    X_train, X_test, y_train, y_test = train_test_split(X, y, test_size=0.2, random_state=42)\n",
    "    model = LogisticRegression()\n",
    "    model.fit(X_train, y_train)\n",
    "    pred_train = model.predict(X_train)\n",
    "    pred_test = model.predict(X_test) \n",
    "    \n",
    "    print(f'Logistic Regression - train set: {accuracy_score(y_train, pred_train)*100:.2f}%')\n",
    "    print(f'Logistic Regression - test set: {accuracy_score(y_test, pred_test)*100:.2f}%')"
   ]
  },
  {
   "cell_type": "code",
   "execution_count": 5,
   "metadata": {},
   "outputs": [
    {
     "name": "stdout",
     "output_type": "stream",
     "text": [
      "Logistic Regression - train set: 99.37%\n",
      "Logistic Regression - test set: 96.25%\n"
     ]
    }
   ],
   "source": [
    "logistic_r(df[['weight','horsepower','displayments','cylinders','origin','acceleration']],df['cluster'])"
   ]
  },
  {
   "cell_type": "markdown",
   "metadata": {},
   "source": [
    "## Compare Classifiers"
   ]
  },
  {
   "cell_type": "code",
   "execution_count": 6,
   "metadata": {},
   "outputs": [],
   "source": [
    "def compare_cl(source,target):\n",
    "\n",
    "\n",
    "    if len(source.values.shape)==1:\n",
    "        X = source.values.reshape(-1,1)\n",
    "    \n",
    "    else:\n",
    "        X = source.values \n",
    "\n",
    "    y = target.values\n",
    "    X_train, X_test, y_train, y_test = train_test_split(X, y, test_size=0.2, random_state=42)\n",
    "    classifiers = {\n",
    "        'Dummy': DummyClassifier(strategy='most_frequent'),\n",
    "        'KNeighbors': KNeighborsClassifier(n_neighbors=1),  #βάζω 1 γιατί πριν βρίκαμε ότι έχει μεγάλη ακρ΄΄ιβεια\n",
    "        'Logistic Regression': LogisticRegression()\n",
    "    \n",
    "     }\n",
    "\n",
    "    for name, model in classifiers.items(): \n",
    "        model.fit(X_train, y_train)\n",
    "        pred_test = model.predict(X_test)\n",
    "        print(f'{name:>20}: {accuracy_score(y_test, pred_test)*100:.2f}%')"
   ]
  },
  {
   "cell_type": "code",
   "execution_count": 7,
   "metadata": {},
   "outputs": [
    {
     "name": "stdout",
     "output_type": "stream",
     "text": [
      "               Dummy: 53.75%\n",
      "          KNeighbors: 93.75%\n",
      " Logistic Regression: 96.25%\n"
     ]
    }
   ],
   "source": [
    "compare_cl(df[['weight','horsepower','displayments','cylinders','origin','acceleration']],df['cluster'])"
   ]
  },
  {
   "cell_type": "code",
   "execution_count": null,
   "metadata": {},
   "outputs": [],
   "source": []
  }
 ],
 "metadata": {
  "kernelspec": {
   "display_name": "Python 3",
   "language": "python",
   "name": "python3"
  },
  "language_info": {
   "codemirror_mode": {
    "name": "ipython",
    "version": 3
   },
   "file_extension": ".py",
   "mimetype": "text/x-python",
   "name": "python",
   "nbconvert_exporter": "python",
   "pygments_lexer": "ipython3",
   "version": "3.8.5"
  }
 },
 "nbformat": 4,
 "nbformat_minor": 2
}
