{
 "cells": [
  {
   "cell_type": "markdown",
   "metadata": {},
   "source": [
    "![](https://www.codehub.gr/wp-content/uploads/2018/01/cropped-CodeHub-logo_320x132.png)"
   ]
  },
  {
   "cell_type": "code",
   "execution_count": 1,
   "metadata": {},
   "outputs": [],
   "source": [
    "import numpy as np\n",
    "import pandas as pd\n",
    "import warnings\n",
    "\n",
    "from sklearn.model_selection import train_test_split \n",
    "\n",
    "from sklearn.linear_model import LogisticRegression\n",
    "from sklearn.ensemble import RandomForestClassifier, GradientBoostingClassifier, StackingClassifier\n",
    "\n",
    "from sklearn.metrics import accuracy_score\n",
    "\n",
    "\n",
    "import matplotlib.pyplot as plt\n",
    "\n",
    "np.set_printoptions(precision=3, suppress=True)\n",
    "pd.set_option('precision', 3)\n",
    "warnings.filterwarnings('ignore')\n",
    "%matplotlib inline"
   ]
  },
  {
   "cell_type": "code",
   "execution_count": 2,
   "metadata": {},
   "outputs": [
    {
     "data": {
      "text/plain": [
       "cylinders          int64\n",
       "displayments     float64\n",
       "horsepower       float64\n",
       "weight             int64\n",
       "acceleration     float64\n",
       "model year         int64\n",
       "cluster            int64\n",
       "mpg              float64\n",
       "origin_1           int64\n",
       "origin_2           int64\n",
       "origin_3           int64\n",
       "origin             int64\n",
       "car name          object\n",
       "brand             object\n",
       "mpg_scaled       float64\n",
       "cylinders_str      int64\n",
       "origin_str         int64\n",
       "dtype: object"
      ]
     },
     "execution_count": 2,
     "metadata": {},
     "output_type": "execute_result"
    }
   ],
   "source": [
    "df = pd.read_csv(\"carbi.data.csv\")\n",
    "df = df.iloc[: , 1:]\n",
    "df.dtypes"
   ]
  },
  {
   "cell_type": "markdown",
   "metadata": {},
   "source": [
    "### Bagging"
   ]
  },
  {
   "cell_type": "code",
   "execution_count": 3,
   "metadata": {},
   "outputs": [],
   "source": [
    "def RandomTree(source,target):\n",
    "\n",
    "\n",
    "    if len(source.values.shape)==1:\n",
    "        X = source.values.reshape(-1,1)\n",
    "    \n",
    "    else:\n",
    "        X = source.values \n",
    "\n",
    "    y = target.values\n",
    "    X_train, X_test, y_train, y_test = train_test_split(X, y, test_size=0.2, random_state=42)\n",
    "    model = RandomForestClassifier(n_estimators=4)  #Πειράξτε αυτή την παράμετρο, πολλές φορές μου βγάζει 100-98(overfitting)\n",
    "    model.fit(X_train, y_train)\n",
    "    pred_train = model.predict(X_train)\n",
    "    pred_test = model.predict(X_test) \n",
    "    \n",
    "    print(f'train set: {accuracy_score(y_train, pred_train)*100:.2f}%')\n",
    "    print(f'test set: {accuracy_score(y_test, pred_test)*100:.2f}%')"
   ]
  },
  {
   "cell_type": "code",
   "execution_count": 4,
   "metadata": {},
   "outputs": [
    {
     "name": "stdout",
     "output_type": "stream",
     "text": [
      "train set: 99.69%\n",
      "test set: 98.75%\n"
     ]
    }
   ],
   "source": [
    "RandomTree(df[['weight','horsepower','displayments','cylinders','origin','acceleration']],df['cluster'])"
   ]
  },
  {
   "cell_type": "markdown",
   "metadata": {},
   "source": [
    "### Boosting"
   ]
  },
  {
   "cell_type": "code",
   "execution_count": 7,
   "metadata": {},
   "outputs": [],
   "source": [
    "def Gradient(source,target):\n",
    "\n",
    "\n",
    "    if len(source.values.shape)==1:\n",
    "        X = source.values.reshape(-1,1)\n",
    "    \n",
    "    else:\n",
    "        X = source.values \n",
    "\n",
    "    y = target.values\n",
    "    X_train, X_test, y_train, y_test = train_test_split(X, y, test_size=0.2, random_state=42)\n",
    "    model = GradientBoostingClassifier(n_estimators=4)  \n",
    "    model.fit(X_train, y_train)\n",
    "    pred_train = model.predict(X_train)\n",
    "    pred_test = model.predict(X_test) \n",
    "    \n",
    "    print(f'train set: {accuracy_score(y_train, pred_train)*100:.2f}%')\n",
    "    print(f'test set: {accuracy_score(y_test, pred_test)*100:.2f}%')"
   ]
  },
  {
   "cell_type": "code",
   "execution_count": 8,
   "metadata": {},
   "outputs": [
    {
     "data": {
      "text/plain": [
       "GradientBoostingClassifier(learning_rate=0      1\n",
       "1      1\n",
       "2      1\n",
       "3      1\n",
       "4      1\n",
       "      ..\n",
       "393    0\n",
       "394    0\n",
       "395    0\n",
       "396    0\n",
       "397    0\n",
       "Name: cluster, Length: 398, dtype: int64,\n",
       "                           loss=     weight  horsepower  displayments  cylinders  origin  acceleration\n",
       "0      3504       130.0         307.0          8       1          12.0\n",
       "1      3693       165.0         350.0          8       1          11.5\n",
       "2      3436       150.0         318.0          8       1          11.0\n",
       "3      3433       150.0         304.0          8       1          12.0\n",
       "4      3449       140.0         302.0          8       1          10.5\n",
       "..      ...         ...           ...        ...     ...           ...\n",
       "393    2790        86.0         140.0          4       1          15.6\n",
       "394    2130        52.0          97.0          4       2          24.6\n",
       "395    2295        84.0         135.0          4       1          11.6\n",
       "396    2625        79.0         120.0          4       1          18.6\n",
       "397    2720        82.0         119.0          4       1          19.4\n",
       "\n",
       "[398 rows x 6 columns])"
      ]
     },
     "execution_count": 8,
     "metadata": {},
     "output_type": "execute_result"
    }
   ],
   "source": [
    "GradientBoostingClassifier(df[['weight','horsepower','displayments','cylinders','origin','acceleration']],df['cluster'])"
   ]
  },
  {
   "cell_type": "markdown",
   "metadata": {},
   "source": [
    "### Stacking"
   ]
  },
  {
   "cell_type": "code",
   "execution_count": 3,
   "metadata": {},
   "outputs": [],
   "source": [
    "def StackForGrad(source,target):\n",
    "\n",
    "\n",
    "    if len(source.values.shape)==1:\n",
    "        X = source.values.reshape(-1,1)\n",
    "    \n",
    "    else:\n",
    "        X = source.values \n",
    "\n",
    "    y = target.values\n",
    "    X_train, X_test, y_train, y_test = train_test_split(X, y, test_size=0.2, random_state=42)\n",
    "    estimators = [ ('rf', RandomForestClassifier(n_estimators=2)), \n",
    "               ('gb', GradientBoostingClassifier(n_estimators=2))]\n",
    "    stack = StackingClassifier(estimators=estimators, final_estimator=LogisticRegression())\n",
    "    stack.fit(X_train, y_train)\n",
    "    pred_train = stack.predict(X_train)\n",
    "    pred_test = stack.predict(X_test) \n",
    "    \n",
    "    print(f'train set: {accuracy_score(y_train, pred_train)*100:.2f}%')\n",
    "    print(f'test set: {accuracy_score(y_test, pred_test)*100:.2f}%')"
   ]
  },
  {
   "cell_type": "code",
   "execution_count": 4,
   "metadata": {},
   "outputs": [
    {
     "name": "stdout",
     "output_type": "stream",
     "text": [
      "train set: 100.00%\n",
      "test set: 100.00%\n"
     ]
    }
   ],
   "source": [
    "StackForGrad(df[['weight','horsepower','displayments','cylinders','origin','acceleration']],df['cluster'])"
   ]
  },
  {
   "cell_type": "code",
   "execution_count": null,
   "metadata": {},
   "outputs": [],
   "source": []
  }
 ],
 "metadata": {
  "kernelspec": {
   "display_name": "Python 3",
   "language": "python",
   "name": "python3"
  },
  "language_info": {
   "codemirror_mode": {
    "name": "ipython",
    "version": 3
   },
   "file_extension": ".py",
   "mimetype": "text/x-python",
   "name": "python",
   "nbconvert_exporter": "python",
   "pygments_lexer": "ipython3",
   "version": "3.8.5"
  }
 },
 "nbformat": 4,
 "nbformat_minor": 2
}
