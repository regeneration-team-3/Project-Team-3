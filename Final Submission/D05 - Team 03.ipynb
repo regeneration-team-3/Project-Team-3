{
 "cells": [
  {
   "cell_type": "code",
   "execution_count": 1,
   "id": "9ebdda3d",
   "metadata": {},
   "outputs": [],
   "source": [
    "import pandas as pd\n",
    "import matplotlib.pyplot as plt\n",
    "import numpy as np\n",
    "\n",
    "from sklearn.ensemble import GradientBoostingRegressor, VotingRegressor\n",
    "from sklearn.linear_model import LinearRegression\n",
    "from sklearn.neural_network import MLPRegressor\n",
    "from sklearn.cluster import KMeans\n",
    "from sklearn.svm import SVR\n",
    "\n",
    "from sklearn.pipeline import Pipeline\n",
    "from sklearn.compose import TransformedTargetRegressor\n",
    "\n",
    "from sklearn.preprocessing import StandardScaler\n",
    "from sklearn.model_selection import train_test_split\n",
    "from sklearn.metrics import mean_squared_error, r2_score, mean_absolute_error"
   ]
  },
  {
   "cell_type": "code",
   "execution_count": 2,
   "id": "4db9edfe",
   "metadata": {},
   "outputs": [],
   "source": [
    "plt.rcParams['figure.figsize'] = [12, 8]\n",
    "plt.rcParams['figure.dpi'] = 100 "
   ]
  },
  {
   "cell_type": "code",
   "execution_count": 3,
   "id": "05a281b8",
   "metadata": {},
   "outputs": [],
   "source": [
    "# load data\n",
    "df = pd.read_excel(\"mpg.data.xlsx\")"
   ]
  },
  {
   "cell_type": "markdown",
   "id": "71f72ff4",
   "metadata": {},
   "source": [
    "# Preprocessing"
   ]
  },
  {
   "cell_type": "code",
   "execution_count": 4,
   "id": "7936d322",
   "metadata": {},
   "outputs": [],
   "source": [
    "# drop empty columns\n",
    "df.drop(df.iloc[:, 9:13], inplace = True, axis = 1)\n",
    "# df.sample(2)"
   ]
  },
  {
   "cell_type": "code",
   "execution_count": 5,
   "id": "44748c3c",
   "metadata": {},
   "outputs": [],
   "source": [
    "# 'cylinders' conversion: 3->4, 5-->6\n",
    "df['cylinders'].replace({3: 4, 5: 6}, inplace=True)"
   ]
  },
  {
   "cell_type": "code",
   "execution_count": 6,
   "id": "0bd906de",
   "metadata": {},
   "outputs": [],
   "source": [
    "# replace missing values of 'horsepower'\n",
    "df1 = df.dropna()\n",
    "\n",
    "source_data = df1[['mpg','acceleration','cylinders', 'displayments', 'weight']]\n",
    "target_data = df1[['horsepower']]\n",
    "\n",
    "clf = Pipeline([\n",
    "    ('scaler', StandardScaler()),\n",
    "    ('model', SVR(kernel=\"linear\")),\n",
    "])\n",
    "clf.fit(source_data, target_data.values.flatten())\n",
    "\n",
    "for row_id in df.index[df['horsepower'].isna()]:\n",
    "    row = df.iloc[row_id]\n",
    "    values = row[['mpg', 'acceleration','cylinders', 'displayments', 'weight']]\n",
    "    prediction = clf.predict([values])[0]\n",
    "    df.at[row_id, 'horsepower'] = prediction"
   ]
  },
  {
   "cell_type": "code",
   "execution_count": 7,
   "id": "3ec5b0be",
   "metadata": {},
   "outputs": [
    {
     "data": {
      "text/plain": [
       "mpg             0\n",
       "cylinders       0\n",
       "displayments    0\n",
       "horsepower      0\n",
       "weight          0\n",
       "acceleration    0\n",
       "model year      0\n",
       "origin          0\n",
       "car name        0\n",
       "dtype: int64"
      ]
     },
     "execution_count": 7,
     "metadata": {},
     "output_type": "execute_result"
    }
   ],
   "source": [
    "# drop rows with missing 'mpg'\n",
    "df = df.dropna()\n",
    "\n",
    "df.isna().sum()"
   ]
  },
  {
   "cell_type": "code",
   "execution_count": 8,
   "id": "792fc8dd",
   "metadata": {},
   "outputs": [],
   "source": [
    "# cylimders dummies\n",
    "temp_c = df[['cylinders']]\n",
    "df = pd.get_dummies(df, columns=['cylinders'])\n",
    "df['cylinders'] = temp_c\n",
    "\n",
    "# origin dummies\n",
    "temp_o = df[['origin']]\n",
    "df = pd.get_dummies(df, columns=['origin'])\n",
    "df['origin'] = temp_o"
   ]
  },
  {
   "cell_type": "code",
   "execution_count": 9,
   "id": "baa4a682",
   "metadata": {},
   "outputs": [],
   "source": [
    "# car brands from car name\n",
    "def get_brands(x):\n",
    "    brand = x.lower().split()[0]\n",
    "    if (brand == 'vw' or brand == 'vokswagen'):\n",
    "        return 'volkswagen'\n",
    "    if (brand == 'toyouta'):\n",
    "        return 'toyota'\n",
    "    if (brand == 'maxda'):\n",
    "        return 'mazda'\n",
    "    if (brand == 'chevroelt' or brand == 'chevy'):\n",
    "        return 'chevrolet'\n",
    "    if (brand == 'mercedes-benz'):\n",
    "        return 'mercedes'\n",
    "    return brand\n",
    "\n",
    "df['brand'] = df['car name'].map(get_brands)"
   ]
  },
  {
   "cell_type": "code",
   "execution_count": 10,
   "id": "c999a5a5",
   "metadata": {},
   "outputs": [],
   "source": [
    "# clustering feature extraction / composing\n",
    "clf = Pipeline([\n",
    "    ('scaler', StandardScaler()),\n",
    "    ('model', KMeans(n_clusters=2)),\n",
    "])\n",
    "df['cluster'] = clf.fit_predict(df[['cylinders','displayments','horsepower','weight','acceleration','model year','origin']])"
   ]
  },
  {
   "cell_type": "code",
   "execution_count": 11,
   "id": "91790ef4",
   "metadata": {},
   "outputs": [],
   "source": [
    "# get brand codes as categorial\n",
    "df['brand_code'] = pd.Categorical(df.brand).codes"
   ]
  },
  {
   "cell_type": "code",
   "execution_count": 12,
   "id": "30a9b8f9",
   "metadata": {},
   "outputs": [
    {
     "data": {
      "text/html": [
       "<div>\n",
       "<style scoped>\n",
       "    .dataframe tbody tr th:only-of-type {\n",
       "        vertical-align: middle;\n",
       "    }\n",
       "\n",
       "    .dataframe tbody tr th {\n",
       "        vertical-align: top;\n",
       "    }\n",
       "\n",
       "    .dataframe thead th {\n",
       "        text-align: right;\n",
       "    }\n",
       "</style>\n",
       "<table border=\"1\" class=\"dataframe\">\n",
       "  <thead>\n",
       "    <tr style=\"text-align: right;\">\n",
       "      <th></th>\n",
       "      <th>mpg</th>\n",
       "      <th>displayments</th>\n",
       "      <th>horsepower</th>\n",
       "      <th>weight</th>\n",
       "      <th>acceleration</th>\n",
       "      <th>model year</th>\n",
       "      <th>car name</th>\n",
       "      <th>cylinders_4</th>\n",
       "      <th>cylinders_6</th>\n",
       "      <th>cylinders_8</th>\n",
       "      <th>cylinders</th>\n",
       "      <th>origin_1</th>\n",
       "      <th>origin_2</th>\n",
       "      <th>origin_3</th>\n",
       "      <th>origin</th>\n",
       "      <th>brand</th>\n",
       "      <th>cluster</th>\n",
       "      <th>brand_code</th>\n",
       "    </tr>\n",
       "  </thead>\n",
       "  <tbody>\n",
       "    <tr>\n",
       "      <th>183</th>\n",
       "      <td>19.0</td>\n",
       "      <td>232.0</td>\n",
       "      <td>90.0</td>\n",
       "      <td>3211</td>\n",
       "      <td>17.0</td>\n",
       "      <td>75</td>\n",
       "      <td>amc pacer</td>\n",
       "      <td>0</td>\n",
       "      <td>1</td>\n",
       "      <td>0</td>\n",
       "      <td>6</td>\n",
       "      <td>1</td>\n",
       "      <td>0</td>\n",
       "      <td>0</td>\n",
       "      <td>1</td>\n",
       "      <td>amc</td>\n",
       "      <td>0</td>\n",
       "      <td>0</td>\n",
       "    </tr>\n",
       "    <tr>\n",
       "      <th>235</th>\n",
       "      <td>18.5</td>\n",
       "      <td>250.0</td>\n",
       "      <td>98.0</td>\n",
       "      <td>3525</td>\n",
       "      <td>19.0</td>\n",
       "      <td>77</td>\n",
       "      <td>ford granada</td>\n",
       "      <td>0</td>\n",
       "      <td>1</td>\n",
       "      <td>0</td>\n",
       "      <td>6</td>\n",
       "      <td>1</td>\n",
       "      <td>0</td>\n",
       "      <td>0</td>\n",
       "      <td>1</td>\n",
       "      <td>ford</td>\n",
       "      <td>0</td>\n",
       "      <td>11</td>\n",
       "    </tr>\n",
       "  </tbody>\n",
       "</table>\n",
       "</div>"
      ],
      "text/plain": [
       "      mpg  displayments  horsepower  weight  acceleration  model year  \\\n",
       "183  19.0         232.0        90.0    3211          17.0          75   \n",
       "235  18.5         250.0        98.0    3525          19.0          77   \n",
       "\n",
       "         car name  cylinders_4  cylinders_6  cylinders_8  cylinders  origin_1  \\\n",
       "183     amc pacer            0            1            0          6         1   \n",
       "235  ford granada            0            1            0          6         1   \n",
       "\n",
       "     origin_2  origin_3  origin brand  cluster  brand_code  \n",
       "183         0         0       1   amc        0           0  \n",
       "235         0         0       1  ford        0          11  "
      ]
     },
     "execution_count": 12,
     "metadata": {},
     "output_type": "execute_result"
    }
   ],
   "source": [
    "df.sample(2)"
   ]
  },
  {
   "cell_type": "code",
   "execution_count": 13,
   "id": "e164e9aa",
   "metadata": {},
   "outputs": [
    {
     "data": {
      "text/plain": [
       "Index(['mpg', 'displayments', 'horsepower', 'weight', 'acceleration',\n",
       "       'model year', 'car name', 'cylinders_4', 'cylinders_6', 'cylinders_8',\n",
       "       'cylinders', 'origin_1', 'origin_2', 'origin_3', 'origin', 'brand',\n",
       "       'cluster', 'brand_code'],\n",
       "      dtype='object')"
      ]
     },
     "execution_count": 13,
     "metadata": {},
     "output_type": "execute_result"
    }
   ],
   "source": [
    "df.columns"
   ]
  },
  {
   "cell_type": "markdown",
   "id": "dd2ffec2",
   "metadata": {},
   "source": [
    "# Custom cross validation function"
   ]
  },
  {
   "cell_type": "code",
   "execution_count": 14,
   "id": "f2c484f7",
   "metadata": {},
   "outputs": [],
   "source": [
    "# Training & Cross validation of our model\n",
    "\n",
    "# PARAMETERS #\n",
    "loops = 100\n",
    "test_size = 0.3\n",
    "\n",
    "attributes = [\n",
    "    'displayments',\n",
    "    'horsepower',\n",
    "    'weight',\n",
    "    'acceleration',\n",
    "    'model year',\n",
    "#     'cylinders_4',\n",
    "#     'cylinders_6',\n",
    "#     'cylinders_8',\n",
    "    'cylinders',\n",
    "    'origin_1',\n",
    "    'origin_2',\n",
    "    'origin_3',\n",
    "#     'origin',\n",
    "#     'cluster',\n",
    "    'brand_code'\n",
    "]\n",
    "\n",
    "\n",
    "x_data = df.drop('mpg', axis=1)[attributes]\n",
    "y_data = df['mpg']\n",
    "\n",
    "# used to cross validate 'model_factory' model\n",
    "def test_model_fn(model_factory):\n",
    "    in_r2_score = 0\n",
    "    out_r2_score = 0\n",
    "    in_mse_error = 0\n",
    "    out_mse_error = 0\n",
    "    in_mae_error = 0\n",
    "    out_mae_error = 0\n",
    "    for i in range(loops):\n",
    "        x_train, x_test, y_train, y_test = train_test_split(x_data, y_data, test_size=test_size, random_state=i)\n",
    "        \n",
    "        model = Pipeline([\n",
    "            ('scaler', StandardScaler()),\n",
    "            ('model', model_factory()),\n",
    "        ])\n",
    "        \n",
    "        model = TransformedTargetRegressor(regressor=model, transformer=StandardScaler())\n",
    "        \n",
    "        model = model.fit(x_train, y_train)\n",
    "        \n",
    "        y_test_pred = model.predict(x_test)\n",
    "        y_train_pred = model.predict(x_train)                                \n",
    "\n",
    "        in_mse_error += mean_squared_error(y_train, y_train_pred)\n",
    "        out_mse_error += mean_squared_error(y_test, y_test_pred)\n",
    "        \n",
    "        in_mae_error += mean_absolute_error(y_train, y_train_pred)\n",
    "        out_mae_error += mean_absolute_error(y_test, y_test_pred)\n",
    "        \n",
    "        in_r2_score += r2_score(y_train, y_train_pred)\n",
    "        out_r2_score += r2_score(y_test, y_test_pred)\n",
    "    \n",
    "    y_pred = model.predict(x_data)\n",
    "    \n",
    "    print(f\"IN MAE { in_mae_error / loops }\")\n",
    "    print(f\"IN MSE { in_mse_error / loops }\")\n",
    "    print(f\"IN r2 { in_r2_score / loops }\")\n",
    "    \n",
    "    print(f\"OUT MAE { out_mae_error / loops }\")\n",
    "    print(f\"OUT MSE { out_mse_error / loops }\")\n",
    "    print(f\"OUT r2 { out_r2_score / loops }\")\n",
    "    print()\n",
    "    \n",
    "#     print(pd.DataFrame(np.c_[y_train, y_train_pred],columns=['act', 'pred']))\n",
    "#     print(pd.DataFrame(np.c_[y_test, y_test_pred],columns=['act', 'pred']))\n",
    "#     print(pd.DataFrame(np.c_[y_data, y_pred],columns=['act', 'pred']))\n",
    "\n",
    "    plt.figure(figsize=(10,6))\n",
    "    plt.scatter(y_train, y_train_pred, color = 'b')\n",
    "    plt.scatter(y_test, y_test_pred, color = 'g')\n",
    "    plt.plot(y_data, y_data, color = 'r')\n",
    "    plt.xlabel(\"Actual\")\n",
    "    plt.ylabel(\"Predictions\")\n",
    "    plt.title(\"Actual vs Predicted\", fontsize=18, fontweight=\"bold\")\n",
    "    plt.show()\n",
    "    "
   ]
  },
  {
   "cell_type": "markdown",
   "id": "e5b41b53",
   "metadata": {},
   "source": [
    "# Final model testing"
   ]
  },
  {
   "cell_type": "code",
   "execution_count": 15,
   "id": "4885cf1e",
   "metadata": {},
   "outputs": [
    {
     "name": "stdout",
     "output_type": "stream",
     "text": [
      "IN MAE 2.041818338171451\n",
      "IN MSE 7.8856721771918545\n",
      "IN r2 0.8697260853186173\n",
      "OUT MAE 2.241735381135513\n",
      "OUT MSE 9.486214916014214\n",
      "OUT r2 0.8455483430101615\n",
      "\n"
     ]
    },
    {
     "data": {
      "image/png": "[encoded data removed]",
      "text/plain": [
       "<Figure size 1000x600 with 1 Axes>"
      ]
     },
     "metadata": {
      "needs_background": "light"
     },
     "output_type": "display_data"
    }
   ],
   "source": [
    "def model_factory():\n",
    "    r1 = SVR()\n",
    "    r2 = SVR(kernel='linear')\n",
    "    r3 = LinearRegression()\n",
    "    \n",
    "    return VotingRegressor(estimators=[\n",
    "        ('r1', r1), \n",
    "        ('r2', r2),\n",
    "        ('r3', r3)\n",
    "    ])\n",
    "\n",
    "test_model_fn(model_factory)"
   ]
  },
  {
   "cell_type": "code",
   "execution_count": null,
   "id": "414a9948",
   "metadata": {},
   "outputs": [],
   "source": []
  }
 ],
 "metadata": {
  "kernelspec": {
   "display_name": "Python 3 (ipykernel)",
   "language": "python",
   "name": "python3"
  },
  "language_info": {
   "codemirror_mode": {
    "name": "ipython",
    "version": 3
   },
   "file_extension": ".py",
   "mimetype": "text/x-python",
   "name": "python",
   "nbconvert_exporter": "python",
   "pygments_lexer": "ipython3",
   "version": "3.9.5"
  }
 },
 "nbformat": 4,
 "nbformat_minor": 5
}
